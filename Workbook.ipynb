{
 "cells": [
  {
   "cell_type": "code",
   "execution_count": 3,
   "metadata": {},
   "outputs": [],
   "source": [
    "import pandas as pd"
   ]
  },
  {
   "cell_type": "code",
   "execution_count": 4,
   "metadata": {},
   "outputs": [],
   "source": [
    "pd.set_option('display.max_columns', None)"
   ]
  },
  {
   "cell_type": "code",
   "execution_count": 5,
   "metadata": {},
   "outputs": [],
   "source": [
    "import matplotlib.pyplot as plt"
   ]
  },
  {
   "cell_type": "code",
   "execution_count": 6,
   "metadata": {},
   "outputs": [],
   "source": [
    "import seaborn as sns"
   ]
  },
  {
   "cell_type": "code",
   "execution_count": 7,
   "metadata": {},
   "outputs": [],
   "source": [
    "Const_df = pd.read_excel('../../../Desktop/Data Science/rough sheet/Nature Conservancy/NCC_Constituents_File.xlsx')"
   ]
  },
  {
   "cell_type": "code",
   "execution_count": 8,
   "metadata": {},
   "outputs": [],
   "source": [
    "Gift_df = pd.read_csv('../../../Desktop/Data Science/rough sheet/Nature Conservancy/NCC_Gifts_Import_File.csv')"
   ]
  },
  {
   "cell_type": "code",
   "execution_count": 9,
   "metadata": {},
   "outputs": [
    {
     "name": "stdout",
     "output_type": "stream",
     "text": [
      "(333107, 4)\n"
     ]
    },
    {
     "data": {
      "text/html": [
       "<div>\n",
       "<style scoped>\n",
       "    .dataframe tbody tr th:only-of-type {\n",
       "        vertical-align: middle;\n",
       "    }\n",
       "\n",
       "    .dataframe tbody tr th {\n",
       "        vertical-align: top;\n",
       "    }\n",
       "\n",
       "    .dataframe thead th {\n",
       "        text-align: right;\n",
       "    }\n",
       "</style>\n",
       "<table border=\"1\" class=\"dataframe\">\n",
       "  <thead>\n",
       "    <tr style=\"text-align: right;\">\n",
       "      <th></th>\n",
       "      <th>DFGID</th>\n",
       "      <th>Key Indicator</th>\n",
       "      <th>Deceased</th>\n",
       "      <th>Preferred Postal Code</th>\n",
       "    </tr>\n",
       "  </thead>\n",
       "  <tbody>\n",
       "    <tr>\n",
       "      <th>0</th>\n",
       "      <td>1</td>\n",
       "      <td>Individual</td>\n",
       "      <td>No</td>\n",
       "      <td>NaN</td>\n",
       "    </tr>\n",
       "    <tr>\n",
       "      <th>1</th>\n",
       "      <td>2</td>\n",
       "      <td>Individual</td>\n",
       "      <td>No</td>\n",
       "      <td>NaN</td>\n",
       "    </tr>\n",
       "    <tr>\n",
       "      <th>2</th>\n",
       "      <td>3</td>\n",
       "      <td>Individual</td>\n",
       "      <td>No</td>\n",
       "      <td>NaN</td>\n",
       "    </tr>\n",
       "    <tr>\n",
       "      <th>3</th>\n",
       "      <td>4</td>\n",
       "      <td>Individual</td>\n",
       "      <td>No</td>\n",
       "      <td>NaN</td>\n",
       "    </tr>\n",
       "    <tr>\n",
       "      <th>4</th>\n",
       "      <td>5</td>\n",
       "      <td>Individual</td>\n",
       "      <td>No</td>\n",
       "      <td>NaN</td>\n",
       "    </tr>\n",
       "  </tbody>\n",
       "</table>\n",
       "</div>"
      ],
      "text/plain": [
       "   DFGID Key Indicator Deceased Preferred Postal Code\n",
       "0      1    Individual       No                   NaN\n",
       "1      2    Individual       No                   NaN\n",
       "2      3    Individual       No                   NaN\n",
       "3      4    Individual       No                   NaN\n",
       "4      5    Individual       No                   NaN"
      ]
     },
     "execution_count": 9,
     "metadata": {},
     "output_type": "execute_result"
    }
   ],
   "source": [
    "print(Const_df.shape)\n",
    "Const_df.head()"
   ]
  },
  {
   "cell_type": "code",
   "execution_count": 10,
   "metadata": {},
   "outputs": [
    {
     "name": "stdout",
     "output_type": "stream",
     "text": [
      "(2331857, 12)\n"
     ]
    },
    {
     "data": {
      "text/html": [
       "<div>\n",
       "<style scoped>\n",
       "    .dataframe tbody tr th:only-of-type {\n",
       "        vertical-align: middle;\n",
       "    }\n",
       "\n",
       "    .dataframe tbody tr th {\n",
       "        vertical-align: top;\n",
       "    }\n",
       "\n",
       "    .dataframe thead th {\n",
       "        text-align: right;\n",
       "    }\n",
       "</style>\n",
       "<table border=\"1\" class=\"dataframe\">\n",
       "  <thead>\n",
       "    <tr style=\"text-align: right;\">\n",
       "      <th></th>\n",
       "      <th>DFGID</th>\n",
       "      <th>Gift Import ID</th>\n",
       "      <th>Gift Date</th>\n",
       "      <th>Gift Amount</th>\n",
       "      <th>Campaign ID</th>\n",
       "      <th>Campaign Description</th>\n",
       "      <th>Fund ID</th>\n",
       "      <th>Fund Description</th>\n",
       "      <th>Appeal ID</th>\n",
       "      <th>Appeal Description</th>\n",
       "      <th>Gift Type</th>\n",
       "      <th>Gift Subtype</th>\n",
       "    </tr>\n",
       "  </thead>\n",
       "  <tbody>\n",
       "    <tr>\n",
       "      <th>0</th>\n",
       "      <td>1</td>\n",
       "      <td>561467</td>\n",
       "      <td>06/09/1993</td>\n",
       "      <td>$100.00</td>\n",
       "      <td>Direct Marketing</td>\n",
       "      <td>Direct Marketing</td>\n",
       "      <td>90140</td>\n",
       "      <td>General - National</td>\n",
       "      <td>E 93 DMG</td>\n",
       "      <td>1993 Direct Mail General - English</td>\n",
       "      <td>Cash</td>\n",
       "      <td>NaN</td>\n",
       "    </tr>\n",
       "    <tr>\n",
       "      <th>1</th>\n",
       "      <td>1</td>\n",
       "      <td>527964</td>\n",
       "      <td>08/08/1991</td>\n",
       "      <td>$25.00</td>\n",
       "      <td>Direct Marketing</td>\n",
       "      <td>Direct Marketing</td>\n",
       "      <td>90140</td>\n",
       "      <td>General - National</td>\n",
       "      <td>E 91 DMG</td>\n",
       "      <td>1991 Direct Mail General - English</td>\n",
       "      <td>Cash</td>\n",
       "      <td>NaN</td>\n",
       "    </tr>\n",
       "    <tr>\n",
       "      <th>2</th>\n",
       "      <td>1</td>\n",
       "      <td>546469</td>\n",
       "      <td>08/14/1992</td>\n",
       "      <td>$25.00</td>\n",
       "      <td>Direct Marketing</td>\n",
       "      <td>Direct Marketing</td>\n",
       "      <td>90140</td>\n",
       "      <td>General - National</td>\n",
       "      <td>E 92 DMG</td>\n",
       "      <td>1992 Direct Mail General - English</td>\n",
       "      <td>Cash</td>\n",
       "      <td>NaN</td>\n",
       "    </tr>\n",
       "    <tr>\n",
       "      <th>3</th>\n",
       "      <td>1</td>\n",
       "      <td>546470</td>\n",
       "      <td>08/14/1992</td>\n",
       "      <td>$50.00</td>\n",
       "      <td>Direct Marketing</td>\n",
       "      <td>Direct Marketing</td>\n",
       "      <td>90140</td>\n",
       "      <td>General - National</td>\n",
       "      <td>E 92 DMG</td>\n",
       "      <td>1992 Direct Mail General - English</td>\n",
       "      <td>Cash</td>\n",
       "      <td>NaN</td>\n",
       "    </tr>\n",
       "    <tr>\n",
       "      <th>4</th>\n",
       "      <td>1</td>\n",
       "      <td>546471</td>\n",
       "      <td>08/14/1992</td>\n",
       "      <td>$25.00</td>\n",
       "      <td>Direct Marketing</td>\n",
       "      <td>Direct Marketing</td>\n",
       "      <td>90140</td>\n",
       "      <td>General - National</td>\n",
       "      <td>E 92 DMG</td>\n",
       "      <td>1992 Direct Mail General - English</td>\n",
       "      <td>Cash</td>\n",
       "      <td>NaN</td>\n",
       "    </tr>\n",
       "  </tbody>\n",
       "</table>\n",
       "</div>"
      ],
      "text/plain": [
       "   DFGID Gift Import ID   Gift Date Gift Amount       Campaign ID  \\\n",
       "0      1         561467  06/09/1993     $100.00  Direct Marketing   \n",
       "1      1         527964  08/08/1991      $25.00  Direct Marketing   \n",
       "2      1         546469  08/14/1992      $25.00  Direct Marketing   \n",
       "3      1         546470  08/14/1992      $50.00  Direct Marketing   \n",
       "4      1         546471  08/14/1992      $25.00  Direct Marketing   \n",
       "\n",
       "  Campaign Description Fund ID    Fund Description Appeal ID  \\\n",
       "0     Direct Marketing   90140  General - National  E 93 DMG   \n",
       "1     Direct Marketing   90140  General - National  E 91 DMG   \n",
       "2     Direct Marketing   90140  General - National  E 92 DMG   \n",
       "3     Direct Marketing   90140  General - National  E 92 DMG   \n",
       "4     Direct Marketing   90140  General - National  E 92 DMG   \n",
       "\n",
       "                   Appeal Description Gift Type Gift Subtype  \n",
       "0  1993 Direct Mail General - English      Cash          NaN  \n",
       "1  1991 Direct Mail General - English      Cash          NaN  \n",
       "2  1992 Direct Mail General - English      Cash          NaN  \n",
       "3  1992 Direct Mail General - English      Cash          NaN  \n",
       "4  1992 Direct Mail General - English      Cash          NaN  "
      ]
     },
     "execution_count": 10,
     "metadata": {},
     "output_type": "execute_result"
    }
   ],
   "source": [
    "print(Gift_df.shape)\n",
    "Gift_df.head()"
   ]
  },
  {
   "cell_type": "code",
   "execution_count": 11,
   "metadata": {},
   "outputs": [],
   "source": [
    "#Clean Column Names\n",
    "\n",
    "def clean_cols(df):\n",
    "    df.columns= df.columns.str.upper()\n",
    "    df.columns= df.columns.str.replace(' ','_')\n",
    "    df.columns= df.columns.str.replace('.','_')\n",
    "    df.columns= df.columns.str.replace('/n','_')\n",
    "    df.columns= df.columns.str.replace('\\n','_')\n",
    "    df.columns= df.columns.str.replace(':','_')\n",
    "    return df   "
   ]
  },
  {
   "cell_type": "code",
   "execution_count": 12,
   "metadata": {},
   "outputs": [],
   "source": [
    "Const_df = Const_df.pipe(clean_cols)\n",
    "Gift_df = Gift_df.pipe(clean_cols)"
   ]
  },
  {
   "cell_type": "code",
   "execution_count": 13,
   "metadata": {},
   "outputs": [
    {
     "data": {
      "text/plain": [
       "DFGID                     int64\n",
       "KEY_INDICATOR            object\n",
       "DECEASED                 object\n",
       "PREFERRED_POSTAL_CODE    object\n",
       "dtype: object"
      ]
     },
     "execution_count": 13,
     "metadata": {},
     "output_type": "execute_result"
    }
   ],
   "source": [
    "Const_df.dtypes"
   ]
  },
  {
   "cell_type": "code",
   "execution_count": 14,
   "metadata": {},
   "outputs": [
    {
     "data": {
      "text/plain": [
       "DFGID                    int64\n",
       "GIFT_IMPORT_ID          object\n",
       "GIFT_DATE               object\n",
       "GIFT_AMOUNT             object\n",
       "CAMPAIGN_ID             object\n",
       "CAMPAIGN_DESCRIPTION    object\n",
       "FUND_ID                 object\n",
       "FUND_DESCRIPTION        object\n",
       "APPEAL_ID               object\n",
       "APPEAL_DESCRIPTION      object\n",
       "GIFT_TYPE               object\n",
       "GIFT_SUBTYPE            object\n",
       "dtype: object"
      ]
     },
     "execution_count": 14,
     "metadata": {},
     "output_type": "execute_result"
    }
   ],
   "source": [
    "Gift_df.dtypes"
   ]
  },
  {
   "cell_type": "code",
   "execution_count": 15,
   "metadata": {},
   "outputs": [],
   "source": [
    "Gift_df['GIFT_DATE'] = pd.to_datetime(Gift_df['GIFT_DATE'])"
   ]
  },
  {
   "cell_type": "code",
   "execution_count": 16,
   "metadata": {},
   "outputs": [
    {
     "data": {
      "text/plain": [
       "'100.00'"
      ]
     },
     "execution_count": 16,
     "metadata": {},
     "output_type": "execute_result"
    }
   ],
   "source": [
    "Gift_df['GIFT_AMOUNT'][0].replace('$','')"
   ]
  },
  {
   "cell_type": "code",
   "execution_count": 17,
   "metadata": {},
   "outputs": [],
   "source": [
    "def cleandollar(x):\n",
    "    x = x.replace('$','')\n",
    "    return x"
   ]
  },
  {
   "cell_type": "code",
   "execution_count": 18,
   "metadata": {},
   "outputs": [],
   "source": [
    "def cleancomma(x):\n",
    "    x = x.replace(',','')\n",
    "    return x"
   ]
  },
  {
   "cell_type": "code",
   "execution_count": 19,
   "metadata": {},
   "outputs": [],
   "source": [
    "Gift_df['GIFT_AMOUNT'] = Gift_df['GIFT_AMOUNT'].apply(cleandollar)"
   ]
  },
  {
   "cell_type": "code",
   "execution_count": 20,
   "metadata": {},
   "outputs": [],
   "source": [
    "Gift_df['GIFT_AMOUNT'] = Gift_df['GIFT_AMOUNT'].apply(cleancomma)"
   ]
  },
  {
   "cell_type": "code",
   "execution_count": 21,
   "metadata": {},
   "outputs": [],
   "source": [
    "Gift_df['GIFT_AMOUNT'] = Gift_df['GIFT_AMOUNT'].astype('float')"
   ]
  },
  {
   "cell_type": "markdown",
   "metadata": {},
   "source": [
    "### Ideas\n",
    "\n",
    "- Constituent distribution by key indicator (Individual vs Organization)\n",
    "- Constituent distribution by deceased status\n",
    "- Gift by DFGID (donor ID)\n",
    "- Gift by Campaign ID\n",
    "- "
   ]
  },
  {
   "cell_type": "markdown",
   "metadata": {},
   "source": [
    "### Constituent Data Overview"
   ]
  },
  {
   "cell_type": "code",
   "execution_count": 22,
   "metadata": {},
   "outputs": [
    {
     "data": {
      "text/html": [
       "<div>\n",
       "<style scoped>\n",
       "    .dataframe tbody tr th:only-of-type {\n",
       "        vertical-align: middle;\n",
       "    }\n",
       "\n",
       "    .dataframe tbody tr th {\n",
       "        vertical-align: top;\n",
       "    }\n",
       "\n",
       "    .dataframe thead th {\n",
       "        text-align: right;\n",
       "    }\n",
       "</style>\n",
       "<table border=\"1\" class=\"dataframe\">\n",
       "  <thead>\n",
       "    <tr style=\"text-align: right;\">\n",
       "      <th></th>\n",
       "      <th>DFGID</th>\n",
       "      <th>DECEASED</th>\n",
       "      <th>PREFERRED_POSTAL_CODE</th>\n",
       "    </tr>\n",
       "    <tr>\n",
       "      <th>KEY_INDICATOR</th>\n",
       "      <th></th>\n",
       "      <th></th>\n",
       "      <th></th>\n",
       "    </tr>\n",
       "  </thead>\n",
       "  <tbody>\n",
       "    <tr>\n",
       "      <th>Individual</th>\n",
       "      <td>320900</td>\n",
       "      <td>320900</td>\n",
       "      <td>280727</td>\n",
       "    </tr>\n",
       "    <tr>\n",
       "      <th>Organization</th>\n",
       "      <td>12207</td>\n",
       "      <td>12207</td>\n",
       "      <td>11794</td>\n",
       "    </tr>\n",
       "  </tbody>\n",
       "</table>\n",
       "</div>"
      ],
      "text/plain": [
       "                DFGID  DECEASED  PREFERRED_POSTAL_CODE\n",
       "KEY_INDICATOR                                         \n",
       "Individual     320900    320900                 280727\n",
       "Organization    12207     12207                  11794"
      ]
     },
     "execution_count": 22,
     "metadata": {},
     "output_type": "execute_result"
    }
   ],
   "source": [
    "Const_df.groupby('KEY_INDICATOR').count()"
   ]
  },
  {
   "cell_type": "code",
   "execution_count": 23,
   "metadata": {},
   "outputs": [
    {
     "data": {
      "text/plain": [
       "Text(0.5, 1.0, 'Constituent Key Indicator Count')"
      ]
     },
     "execution_count": 23,
     "metadata": {},
     "output_type": "execute_result"
    },
    {
     "data": {
      "image/png": "[encoded data removed]",
      "text/plain": [
       "<Figure size 360x360 with 1 Axes>"
      ]
     },
     "metadata": {
      "needs_background": "light"
     },
     "output_type": "display_data"
    }
   ],
   "source": [
    "fig,ax = plt.subplots(1,1,figsize=(5,5))\n",
    "\n",
    "x = Const_df.groupby('KEY_INDICATOR').count().DFGID.index\n",
    "y = Const_df.groupby('KEY_INDICATOR').count().DFGID.values\n",
    "\n",
    "sns.barplot(x=x,y=y)\n",
    "\n",
    "ax.set_title('Constituent Key Indicator Count')"
   ]
  },
  {
   "cell_type": "code",
   "execution_count": 24,
   "metadata": {},
   "outputs": [
    {
     "data": {
      "text/html": [
       "<div>\n",
       "<style scoped>\n",
       "    .dataframe tbody tr th:only-of-type {\n",
       "        vertical-align: middle;\n",
       "    }\n",
       "\n",
       "    .dataframe tbody tr th {\n",
       "        vertical-align: top;\n",
       "    }\n",
       "\n",
       "    .dataframe thead th {\n",
       "        text-align: right;\n",
       "    }\n",
       "</style>\n",
       "<table border=\"1\" class=\"dataframe\">\n",
       "  <thead>\n",
       "    <tr style=\"text-align: right;\">\n",
       "      <th></th>\n",
       "      <th>DFGID</th>\n",
       "      <th>KEY_INDICATOR</th>\n",
       "      <th>PREFERRED_POSTAL_CODE</th>\n",
       "    </tr>\n",
       "    <tr>\n",
       "      <th>DECEASED</th>\n",
       "      <th></th>\n",
       "      <th></th>\n",
       "      <th></th>\n",
       "    </tr>\n",
       "  </thead>\n",
       "  <tbody>\n",
       "    <tr>\n",
       "      <th>No</th>\n",
       "      <td>317930</td>\n",
       "      <td>317930</td>\n",
       "      <td>281768</td>\n",
       "    </tr>\n",
       "    <tr>\n",
       "      <th>Yes</th>\n",
       "      <td>15177</td>\n",
       "      <td>15177</td>\n",
       "      <td>10753</td>\n",
       "    </tr>\n",
       "  </tbody>\n",
       "</table>\n",
       "</div>"
      ],
      "text/plain": [
       "           DFGID  KEY_INDICATOR  PREFERRED_POSTAL_CODE\n",
       "DECEASED                                              \n",
       "No        317930         317930                 281768\n",
       "Yes        15177          15177                  10753"
      ]
     },
     "execution_count": 24,
     "metadata": {},
     "output_type": "execute_result"
    }
   ],
   "source": [
    "Const_df.groupby('DECEASED').count()"
   ]
  },
  {
   "cell_type": "code",
   "execution_count": 25,
   "metadata": {},
   "outputs": [
    {
     "data": {
      "text/plain": [
       "Text(0.5, 1.0, 'Constituent Deceased Count')"
      ]
     },
     "execution_count": 25,
     "metadata": {},
     "output_type": "execute_result"
    },
    {
     "data": {
      "image/png": "[encoded data removed]",
      "text/plain": [
       "<Figure size 360x360 with 1 Axes>"
      ]
     },
     "metadata": {
      "needs_background": "light"
     },
     "output_type": "display_data"
    }
   ],
   "source": [
    "fig,ax = plt.subplots(1,1,figsize=(5,5))\n",
    "\n",
    "x = Const_df.groupby('DECEASED').count().DFGID.index\n",
    "y = Const_df.groupby('DECEASED').count().DFGID.values\n",
    "\n",
    "sns.barplot(x=x,y=y)\n",
    "\n",
    "ax.set_title('Constituent Deceased Count')"
   ]
  },
  {
   "cell_type": "markdown",
   "metadata": {},
   "source": [
    "### Gift Data Overview"
   ]
  },
  {
   "cell_type": "code",
   "execution_count": 26,
   "metadata": {},
   "outputs": [
    {
     "data": {
      "text/plain": [
       "Index(['DFGID', 'GIFT_IMPORT_ID', 'GIFT_DATE', 'GIFT_AMOUNT', 'CAMPAIGN_ID',\n",
       "       'CAMPAIGN_DESCRIPTION', 'FUND_ID', 'FUND_DESCRIPTION', 'APPEAL_ID',\n",
       "       'APPEAL_DESCRIPTION', 'GIFT_TYPE', 'GIFT_SUBTYPE'],\n",
       "      dtype='object')"
      ]
     },
     "execution_count": 26,
     "metadata": {},
     "output_type": "execute_result"
    }
   ],
   "source": [
    "Gift_df.columns"
   ]
  },
  {
   "cell_type": "code",
   "execution_count": 27,
   "metadata": {},
   "outputs": [],
   "source": [
    "#donations less than $1000\n",
    "f1 = Gift_df.GIFT_AMOUNT <= 1000\n",
    "\n",
    "Small_Gift_df = Gift_df[f1]"
   ]
  },
  {
   "cell_type": "code",
   "execution_count": 94,
   "metadata": {},
   "outputs": [],
   "source": [
    "Small_Gift_group_df = Small_Gift_df.groupby('DFGID').count()['GIFT_IMPORT_ID']"
   ]
  },
  {
   "cell_type": "code",
   "execution_count": 95,
   "metadata": {},
   "outputs": [
    {
     "data": {
      "text/plain": [
       "(38,)"
      ]
     },
     "execution_count": 95,
     "metadata": {},
     "output_type": "execute_result"
    }
   ],
   "source": [
    "Small_Gift_group_df[Small_Gift_group_df>=300].shape"
   ]
  },
  {
   "cell_type": "code",
   "execution_count": 96,
   "metadata": {},
   "outputs": [
    {
     "data": {
      "image/png": "[encoded data removed]",
      "text/plain": [
       "<Figure size 504x504 with 1 Axes>"
      ]
     },
     "metadata": {
      "needs_background": "light"
     },
     "output_type": "display_data"
    }
   ],
   "source": [
    "fig,ax = plt.subplots(1,1,figsize=(7,7))\n",
    "\n",
    "x= Small_Gift_group_df[Small_Gift_group_df>=300].index\n",
    "y= Small_Gift_group_df[Small_Gift_group_df>=300].values\n",
    "\n",
    "sns.barplot(x=x,y=y)\n",
    "\n",
    "ax.set_title('Small Donors Frequency (300-1000$)')\n",
    "ax.set_xticklabels(ax.get_xticklabels(), rotation=90);"
   ]
  }
 ],
 "metadata": {
  "kernelspec": {
   "display_name": "Python 3",
   "language": "python",
   "name": "python3"
  },
  "language_info": {
   "codemirror_mode": {
    "name": "ipython",
    "version": 3
   },
   "file_extension": ".py",
   "mimetype": "text/x-python",
   "name": "python",
   "nbconvert_exporter": "python",
   "pygments_lexer": "ipython3",
   "version": "3.7.9"
  }
 },
 "nbformat": 4,
 "nbformat_minor": 4
}
